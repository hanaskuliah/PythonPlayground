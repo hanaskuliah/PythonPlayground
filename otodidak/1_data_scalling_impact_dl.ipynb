{
 "cells": [
  {
   "cell_type": "code",
   "execution_count": null,
   "metadata": {},
   "outputs": [],
   "source": [
    "# Dalam deep learning pastikan semakin minimum data scalenya, misal meter dengan kilometer kita harus samakan biar afdol. \n",
    "# perbedaan skala antar varabel input akan membuat sulit untuk melakukan modelling. sebuah model dengan weight value yang \n",
    "# besar seringkali tidak stabil, yang berarti model tsb akan menjadikan performanya saat learning jelek \n",
    "# dan sensitivitas ke input value menghasilkan error generalization yang tinggi\\\n",
    "\n",
    "# salah satu bentuk pre-processing yang sering digunakan terdiri dsari sebuah simple linear rescsalling dari variabel input.\n",
    "# Dalam penggunaanya, selalu menguntungkan jika kita melakukan pre-processing ke input data sebelum kita masukkan ke network. \n",
    "# begitu juga dengan output dari network juga sering dilakukan post precess untuk memberikan nilai output yang dibutuhkan \n"
   ]
  },
  {
   "cell_type": "code",
   "execution_count": 2,
   "metadata": {},
   "outputs": [],
   "source": [
    "# Scalling variable input\n",
    "# jika distribusi dari jumlahnya adalah normal, maka yang dilakukan adalah standarisasi, selain itu datanya harus di normalisasi.\n",
    "# jika datanya sudah berada di 0-1 dan standar deviasinya misal 1 kita gak perlu scalling data lagi\n",
    "\n",
    "# Scalling variable output\n",
    "# kita harus memastikan bahwa skala dari nilai output variabel kita sesuai dengan skala dari fungsi aktivasi \n",
    "# pada output layer di network kita. jika kita mau melakukan regresi, maka hasil output adalah sebuah nilai yang real\n"
   ]
  },
  {
   "cell_type": "code",
   "execution_count": 1,
   "metadata": {},
   "outputs": [
    {
     "data": {
      "text/plain": [
       "array([[1.        , 1.        ],\n",
       "       [0.83333333, 0.        ],\n",
       "       [0.66666667, 0.4       ],\n",
       "       [0.5       , 0.8       ],\n",
       "       [0.        , 0.8       ]])"
      ]
     },
     "execution_count": 1,
     "metadata": {},
     "output_type": "execute_result"
    }
   ],
   "source": [
    "# Data Scalling Methods\n",
    "\n",
    "# - Normalisasi data\n",
    "# normalisasi data adalah melakukukan rescalling dari data mulai dari range original,\n",
    "# sehingga semua data nilainya berada di antara 0-1\n",
    "# y = (x - min) / (max - min) x adalah nilai yang akan dinormalisasikan\n",
    "# kalau mau pake di scikit learn, ada yang namanya minmaxscaller\n",
    "import sklearn\n",
    "from sklearn.preprocessing import MinMaxScaler\n",
    "\n",
    "\n",
    "# create scaler, dengan masukkan nilai min dan max di feature range\n",
    "scaler = MinMaxScaler(feature_range=(-1,1))\n",
    "data = [[7,9],[6,4],[5,6],[4,8],[1,8]]\n",
    "# create scaler\n",
    "scaler = MinMaxScaler()\n",
    "# fit scaler on data\n",
    "scaler.fit(data)\n",
    "# apply transform\n",
    "normalized = scaler.transform(data)\n",
    "# fit and transform in one step\n",
    "# normalized = scaler.fit_transform(data)\n",
    "normalized"
   ]
  },
  {
   "cell_type": "code",
   "execution_count": 2,
   "metadata": {},
   "outputs": [
    {
     "data": {
      "text/plain": [
       "array([[7., 9.],\n",
       "       [6., 4.],\n",
       "       [5., 6.],\n",
       "       [4., 8.],\n",
       "       [1., 8.]])"
      ]
     },
     "execution_count": 2,
     "metadata": {},
     "output_type": "execute_result"
    }
   ],
   "source": [
    "# inverse transform\n",
    "inverse = scaler.inverse_transform(normalized)\n",
    "inverse"
   ]
  },
  {
   "cell_type": "code",
   "execution_count": 3,
   "metadata": {},
   "outputs": [
    {
     "data": {
      "text/plain": [
       "array([[ 1.16554303,  1.11803399],\n",
       "       [ 0.6799001 , -1.67705098],\n",
       "       [ 0.19425717, -0.55901699],\n",
       "       [-0.29138576,  0.55901699],\n",
       "       [-1.74831455,  0.55901699]])"
      ]
     },
     "execution_count": 3,
     "metadata": {},
     "output_type": "execute_result"
    }
   ],
   "source": [
    "# -  Standarisasi data\n",
    "# standaridasi dataset termasuk didalamnya rescalling distribusi dari nilai-nilai \n",
    "# sehingga rata-rata dari observed value atau nilai yang diamati adalah 0 dan standar deviasinya 1.\n",
    "# bisa juga disebut dengan whitening atau centering the data.\n",
    "# y = (x - mean) / standard_deviation\n",
    "# mean = sum(x) / count(x)\n",
    "# standard_deviation = sqrt( sum( (x - mean)^2 ) / count(x))\n",
    "\n",
    "from sklearn.preprocessing import StandardScaler\n",
    "# create scaler, dengan masukkan nilai min dan max di feature range\n",
    "scaler_std = StandardScaler()\n",
    "# create data\n",
    "data_std = [[7,9],[6,4],[5,6],[4,8],[1,8]]\n",
    "# fit scaler on data\n",
    "scaler_std.fit(data_std)\n",
    "# apply transform\n",
    "standardized = scaler_std.transform(data_std)\n",
    "# fit and transform in one step\n",
    "# normalized = scaler.fit_transform(data)\n",
    "standardized"
   ]
  },
  {
   "cell_type": "code",
   "execution_count": 4,
   "metadata": {},
   "outputs": [
    {
     "data": {
      "text/plain": [
       "array([[7., 9.],\n",
       "       [6., 4.],\n",
       "       [5., 6.],\n",
       "       [4., 8.],\n",
       "       [1., 8.]])"
      ]
     },
     "execution_count": 4,
     "metadata": {},
     "output_type": "execute_result"
    }
   ],
   "source": [
    "inverse_std = scaler_std.inverse_transform(standardized)\n",
    "inverse_std"
   ]
  },
  {
   "cell_type": "code",
   "execution_count": 14,
   "metadata": {},
   "outputs": [
    {
     "data": {
      "image/png": "[encoded data removed]",
      "text/plain": [
       "<Figure size 432x288 with 2 Axes>"
      ]
     },
     "metadata": {
      "needs_background": "light"
     },
     "output_type": "display_data"
    },
    {
     "data": {
      "image/png": "[encoded data removed]",
      "text/plain": [
       "<Figure size 432x288 with 1 Axes>"
      ]
     },
     "metadata": {
      "needs_background": "light"
     },
     "output_type": "display_data"
    },
    {
     "data": {
      "text/plain": [
       "283.4382653220036"
      ]
     },
     "execution_count": 14,
     "metadata": {},
     "output_type": "execute_result"
    }
   ],
   "source": [
    "# #############################################################################################\n",
    "# oke sudah cukup belajarnya sekarangh saatnya untuk implementasi dalam regression predictive \n",
    "from sklearn.datasets import make_regression\n",
    "from matplotlib import pyplot\n",
    "%matplotlib inline\n",
    "\n",
    "# ini adalah cara generate data ujicoba dengan jumlah data 1k ada sekitar 20 features, dan 1 buah output\n",
    "x, y = make_regression(n_samples=1000, n_features=20, noise=0.1, random_state=1)\n",
    "pyplot.subplot(211) #211 ini adalah untuk mengatur ukurannya\n",
    "pyplot.hist(x[:, 0]) #ambil semua data dari indeks pertama dari kolom\n",
    "pyplot.subplot(212) # ukuran dari gambar\n",
    "pyplot.hist(x[:, 1]) # ambil semua data pada kolom ke 2 dari 20 features yang ada, cuman buat FYi  \n",
    "pyplot.show()\n",
    "# histogram dari target variablenya, untuk output gitu\n",
    "pyplot.hist(y)\n",
    "pyplot.show()\n",
    "y[0] # nilainya berkisar dari -400 sampai 400"
   ]
  },
  {
   "cell_type": "code",
   "execution_count": 15,
   "metadata": {},
   "outputs": [
    {
     "name": "stderr",
     "output_type": "stream",
     "text": [
      "Using TensorFlow backend.\n"
     ]
    },
    {
     "name": "stdout",
     "output_type": "stream",
     "text": [
      "WARNING:tensorflow:From c:\\programdata\\anaconda3\\lib\\site-packages\\tensorflow\\python\\ops\\resource_variable_ops.py:435: colocate_with (from tensorflow.python.framework.ops) is deprecated and will be removed in a future version.\n",
      "Instructions for updating:\n",
      "Colocations handled automatically by placer.\n",
      "WARNING:tensorflow:From c:\\programdata\\anaconda3\\lib\\site-packages\\tensorflow\\python\\ops\\math_ops.py:3066: to_int32 (from tensorflow.python.ops.math_ops) is deprecated and will be removed in a future version.\n",
      "Instructions for updating:\n",
      "Use tf.cast instead.\n",
      "Train: nan, Test: nan\n"
     ]
    },
    {
     "data": {
      "image/png": "[encoded data removed]",
      "text/plain": [
       "<Figure size 432x288 with 1 Axes>"
      ]
     },
     "metadata": {
      "needs_background": "light"
     },
     "output_type": "display_data"
    }
   ],
   "source": [
    "#################################################\n",
    "# Multilayer perceptron (MLP) dengan data yang tidak discale\n",
    "# mlp with unscaled data for the regression problem\n",
    "from sklearn.datasets import make_regression\n",
    "from keras.layers import Dense\n",
    "from keras.models import Sequential\n",
    "from keras.optimizers import SGD\n",
    "from matplotlib import pyplot\n",
    "\n",
    "# generate regression dataset\n",
    "X, y = make_regression(n_samples=1000, n_features=20, noise=0.1, random_state=1)\n",
    "\n",
    "# data dibagi antara training dan dataset\n",
    "n_train = 500\n",
    "trainX, testX = X[:n_train, :], X[n_train:, :]\n",
    "trainy, testy = y[:n_train], y[n_train:]\n",
    "\n",
    "# define model\n",
    "# input dimensinya karena ada 20 feature jadi ya 20\n",
    "# satu hidden layer dengan 25 nodes kita gunakan, rectified linear activation function alias relu aktivasi\n",
    "# outputnya menghasilkan satu nilai dengan aktivasi linear untuk prediksi \n",
    "model = Sequential()\n",
    "model.add(Dense(25, input_dim=20, activation='relu', kernel_initializer='he_uniform'))\n",
    "model.add(Dense(1, activation='linear'))\n",
    "\n",
    "# compile model\n",
    "# mean squared error loss function digunakan optimalisasi model dan SGD stochastic gradient descent untuk algoritma optimalisasi\n",
    "# learning rate 0.01 dan momentum 0.9\n",
    "model.compile(loss='mean_squared_error', optimizer=SGD(lr=0.01, momentum=0.9))\n",
    "\n",
    "# fit model\n",
    "# pakai 100 epoch dengan data test untuk validasi data\n",
    "history = model.fit(trainX, trainy, validation_data=(testX, testy), epochs=100, verbose=0)\n",
    "\n",
    "# evaluate the model\n",
    "# caranya dengan melihat dari MSE untuk tau sebagaimana baiknya model ini mempelajari problemnya\n",
    "train_mse = model.evaluate(trainX, trainy, verbose=0)\n",
    "test_mse = model.evaluate(testX, testy, verbose=0)\n",
    "print('Train: %.3f, Test: %.3f' % (train_mse, test_mse))\n",
    "\n",
    "# plot loss during training\n",
    "# ini penting untuk tahu bagaimana learningnya\n",
    "pyplot.title('Mean Squared Error')\n",
    "pyplot.plot(history.history['loss'], label='train')\n",
    "pyplot.plot(history.history['val_loss'], label='test')\n",
    "pyplot.legend()\n",
    "pyplot.show()"
   ]
  },
  {
   "cell_type": "code",
   "execution_count": null,
   "metadata": {},
   "outputs": [],
   "source": [
    "# ?dan ternyata hasi dari MSE dari training maupun test adalah Nan yang berarti modelnya tidak bisa belajar \n",
    "# dari problem yang kita set, Model weightnya meledak karena saat training diberikan eror yang sangat besar,\n",
    "# pada akhirnya SGD kebingungan menghitung weight setiap dari node\n",
    "# berikutnya mari kita coba untuk kita scale outputnya, kenapa outputnya saja? \n",
    "# karena tadi kita tahu bahwa outputnya bernilai -400 sampai 400"
   ]
  },
  {
   "cell_type": "code",
   "execution_count": 16,
   "metadata": {},
   "outputs": [
    {
     "name": "stdout",
     "output_type": "stream",
     "text": [
      "Train: 0.003, Test: 0.010\n"
     ]
    },
    {
     "data": {
      "image/png": "[encoded data removed]",
      "text/plain": [
       "<Figure size 432x288 with 1 Axes>"
      ]
     },
     "metadata": {
      "needs_background": "light"
     },
     "output_type": "display_data"
    }
   ],
   "source": [
    "#################################################\n",
    "# Multilayer perceptron (MLP) dengan data output dilakukan standarisasi \n",
    "# mlp with scaled data for the regression problem\n",
    "from sklearn.datasets import make_regression\n",
    "from keras.layers import Dense\n",
    "from keras.models import Sequential\n",
    "from keras.optimizers import SGD\n",
    "from matplotlib import pyplot\n",
    "from sklearn.preprocessing import StandardScaler\n",
    "\n",
    "# generate regression dataset\n",
    "X, y = make_regression(n_samples=1000, n_features=20, noise=0.1, random_state=1)\n",
    "\n",
    "# data dibagi antara training dan dataset\n",
    "n_train = 500\n",
    "trainX, testX = X[:n_train, :], X[n_train:, :]\n",
    "trainy, testy = y[:n_train], y[n_train:]\n",
    "\n",
    "# reshape 1d arrays to 2d arrays, pokonya harus diginiin dulu, merubah shape yang tadinya (500,) menjadi (500,1)\n",
    "trainy = trainy.reshape(len(trainy), 1)\n",
    "testy = testy.reshape(len(trainy), 1)\n",
    "# created scaler\n",
    "scaler = StandardScaler()\n",
    "# fit scaler on training dataset\n",
    "scaler.fit(trainy)\n",
    "# transform training dataset\n",
    "trainy = scaler.transform(trainy)\n",
    "# transform test dataset\n",
    "testy = scaler.transform(testy)\n",
    "# define model\n",
    "\n",
    "# define model\n",
    "# input dimensinya karena ada 20 feature jadi ya 20\n",
    "# satu hidden layer dengan 25 nodes kita gunakan, rectified linear activation function alias relu aktivasi\n",
    "# outputnya menghasilkan satu nilai dengan aktivasi linear untuk prediksi \n",
    "model = Sequential()\n",
    "model.add(Dense(25, input_dim=20, activation='relu', kernel_initializer='he_uniform'))\n",
    "model.add(Dense(1, activation='linear'))\n",
    "\n",
    "# compile model\n",
    "# mean squared error loss function digunakan optimalisasi model dan SGD stochastic gradient descent untuk algoritma optimalisasi\n",
    "# learning rate 0.01 dan momentum 0.9\n",
    "model.compile(loss='mean_squared_error', optimizer=SGD(lr=0.01, momentum=0.9))\n",
    "\n",
    "# fit model\n",
    "# pakai 100 epoch dengan data test untuk validasi data\n",
    "history = model.fit(trainX, trainy, validation_data=(testX, testy), epochs=100, verbose=0)\n",
    "\n",
    "# evaluate the model\n",
    "# caranya dengan melihat dari MSE untuk tau sebagaimana baiknya model ini mempelajari problemnya\n",
    "train_mse = model.evaluate(trainX, trainy, verbose=0)\n",
    "test_mse = model.evaluate(testX, testy, verbose=0)\n",
    "print('Train: %.3f, Test: %.3f' % (train_mse, test_mse))\n",
    "\n",
    "# plot loss during training\n",
    "# ini penting untuk tahu bagaimana learningnya\n",
    "pyplot.title('Mean Squared Error')\n",
    "pyplot.plot(history.history['loss'], label='train')\n",
    "pyplot.plot(history.history['val_loss'], label='test')\n",
    "pyplot.legend()\n",
    "pyplot.show()"
   ]
  },
  {
   "cell_type": "code",
   "execution_count": 17,
   "metadata": {},
   "outputs": [],
   "source": [
    "# nah kali ini akhirnya model kita bisa belajar hhehe, nilai dari MSE bisa berbeda-beda kalau kita run lagi\n",
    "# dalam kasus ini kita bisa tahu bahwa model kita secara cepat bisa belajar dari problem kita ini\n",
    "# performa terbilang bagus karena tidak overfitting dan underfitting\n",
    "#  nah berikutnya kita bikin gimana supaya efektif kodingannya\n",
    "#  berikutnya kita akan bandingkan beberapa cara"
   ]
  },
  {
   "cell_type": "code",
   "execution_count": 18,
   "metadata": {},
   "outputs": [
    {
     "name": "stdout",
     "output_type": "stream",
     "text": [
      ">0.007\n",
      ">0.003\n",
      ">0.005\n",
      ">0.010\n",
      ">0.011\n",
      ">0.007\n",
      ">0.007\n",
      ">0.002\n",
      ">0.010\n",
      ">0.005\n",
      ">0.006\n",
      ">0.006\n",
      ">0.004\n",
      ">0.006\n",
      ">0.009\n",
      ">0.010\n",
      ">0.010\n",
      ">0.009\n",
      ">0.002\n",
      ">0.002\n",
      ">0.009\n",
      ">0.005\n",
      ">0.003\n",
      ">0.007\n",
      ">0.011\n",
      ">0.005\n",
      ">0.001\n",
      ">0.011\n",
      ">0.003\n",
      ">0.002\n",
      ">0.000\n",
      ">0.000\n",
      ">0.001\n",
      ">0.000\n",
      ">0.000\n",
      ">0.000\n",
      ">0.000\n",
      ">0.002\n",
      ">0.000\n",
      ">0.001\n",
      ">0.001\n",
      ">0.000\n",
      ">0.001\n",
      ">0.000\n",
      ">0.000\n",
      ">0.000\n",
      ">0.000\n",
      ">0.000\n",
      ">0.001\n",
      ">0.001\n",
      ">0.001\n",
      ">0.000\n",
      ">0.001\n",
      ">0.002\n",
      ">0.001\n",
      ">0.001\n",
      ">0.001\n",
      ">0.000\n",
      ">0.000\n",
      ">0.000\n",
      ">0.003\n",
      ">0.006\n",
      ">0.008\n",
      ">0.010\n",
      ">0.008\n",
      ">0.005\n",
      ">0.009\n",
      ">0.004\n",
      ">0.007\n",
      ">0.003\n",
      ">0.009\n",
      ">0.010\n",
      ">0.011\n",
      ">0.003\n",
      ">0.007\n",
      ">0.008\n",
      ">0.006\n",
      ">0.010\n",
      ">0.003\n",
      ">0.004\n",
      ">0.006\n",
      ">0.005\n",
      ">0.010\n",
      ">0.008\n",
      ">0.001\n",
      ">0.004\n",
      ">0.004\n",
      ">0.012\n",
      ">0.007\n",
      ">0.006\n",
      "Unscaled: 0.006 (0.003)\n",
      "Normalized: 0.001 (0.000)\n",
      "Standardized: 0.007 (0.003)\n"
     ]
    },
    {
     "data": {
      "image/png": "[encoded data removed]",
      "text/plain": [
       "<Figure size 432x288 with 1 Axes>"
      ]
     },
     "metadata": {
      "needs_background": "light"
     },
     "output_type": "display_data"
    }
   ],
   "source": [
    "#################################################\n",
    "# Multilayer perceptron (MLP) dengan data input dilakukan standarisasi \n",
    "# mlp with scaled data for the regression problem\n",
    "# compare scaling methods for mlp inputs on regression problem\n",
    "from sklearn.datasets import make_regression\n",
    "from sklearn.preprocessing import StandardScaler\n",
    "from sklearn.preprocessing import MinMaxScaler\n",
    "from keras.layers import Dense\n",
    "from keras.models import Sequential\n",
    "from keras.optimizers import SGD\n",
    "from matplotlib import pyplot\n",
    "from numpy import mean\n",
    "from numpy import std\n",
    "\n",
    "# prepare dataset with input and output scalers, can be none\n",
    "def get_dataset(input_scaler, output_scaler):\n",
    "    # generate dataset\n",
    "    X, y = make_regression(n_samples=1000, n_features=20, noise=0.1, random_state=1)\n",
    "    # split into train and test\n",
    "    n_train = 500\n",
    "    trainX, testX = X[:n_train, :], X[n_train:, :]\n",
    "    trainy, testy = y[:n_train], y[n_train:]\n",
    "    # scale inputs\n",
    "    if input_scaler is not None:\n",
    "        # fit scaler\n",
    "        input_scaler.fit(trainX)\n",
    "        # transform training dataset\n",
    "        trainX = input_scaler.transform(trainX)\n",
    "        # transform test dataset\n",
    "        testX = input_scaler.transform(testX)\n",
    "    if output_scaler is not None:\n",
    "        # reshape 1d arrays to 2d arrays\n",
    "        trainy = trainy.reshape(len(trainy), 1)\n",
    "        testy = testy.reshape(len(trainy), 1)\n",
    "        # fit scaler on training dataset\n",
    "        output_scaler.fit(trainy)\n",
    "        # transform training dataset\n",
    "        trainy = output_scaler.transform(trainy)\n",
    "        # transform test dataset\n",
    "        testy = output_scaler.transform(testy)\n",
    "    return trainX, trainy, testX, testy\n",
    "\n",
    "# fit and evaluate mse of model on test set\n",
    "def evaluate_model(trainX, trainy, testX, testy):\n",
    "    # define model\n",
    "    model = Sequential()\n",
    "    model.add(Dense(25, input_dim=20, activation='relu', kernel_initializer='he_uniform'))\n",
    "    model.add(Dense(1, activation='linear'))\n",
    "    # compile model\n",
    "    model.compile(loss='mean_squared_error', optimizer=SGD(lr=0.01, momentum=0.9))\n",
    "    # fit model\n",
    "    model.fit(trainX, trainy, epochs=100, verbose=0)\n",
    "    # evaluate the model\n",
    "    test_mse = model.evaluate(testX, testy, verbose=0)\n",
    "    return test_mse\n",
    "\n",
    "# evaluate model multiple times with given input and output scalers\n",
    "def repeated_evaluation(input_scaler, output_scaler, n_repeats=30):\n",
    "    # get dataset dengan cara memanggil dari fungsi get_dataset\n",
    "    trainX, trainy, testX, testy = get_dataset(input_scaler, output_scaler)\n",
    "    # repeated evaluation of model\n",
    "    results = list()\n",
    "    for _ in range(n_repeats):\n",
    "        # memanggil fungsi evaluate_model\n",
    "        test_mse = evaluate_model(trainX, trainy, testX, testy)\n",
    "        print('>%.3f' % test_mse)\n",
    "        results.append(test_mse)\n",
    "    return results\n",
    "\n",
    "# unscaled inputs\n",
    "results_unscaled_inputs = repeated_evaluation(None, StandardScaler())\n",
    "# normalized inputs\n",
    "results_normalized_inputs = repeated_evaluation(MinMaxScaler(), StandardScaler())\n",
    "# standardized inputs\n",
    "results_standardized_inputs = repeated_evaluation(StandardScaler(), StandardScaler())\n",
    "# summarize results\n",
    "print('Unscaled: %.3f (%.3f)' % (mean(results_unscaled_inputs), std(results_unscaled_inputs)))\n",
    "print('Normalized: %.3f (%.3f)' % (mean(results_normalized_inputs), std(results_normalized_inputs)))\n",
    "print('Standardized: %.3f (%.3f)' % (mean(results_standardized_inputs), std(results_standardized_inputs)))\n",
    "# plot results\n",
    "results = [results_unscaled_inputs, results_normalized_inputs, results_standardized_inputs]\n",
    "labels = ['unscaled', 'normalized', 'standardized']\n",
    "pyplot.boxplot(results, labels=labels)\n",
    "pyplot.show()"
   ]
  },
  {
   "cell_type": "code",
   "execution_count": null,
   "metadata": {},
   "outputs": [],
   "source": [
    "# kita sudah menjalankan beberapa gaya yaitu dibawa ini\n",
    "# No scaling of inputs, standardized outputs. 0.006 (0.003)\n",
    "# Normalized inputs, standardized outputs. 0.001 (0.000)\n",
    "# Standardized inputs, standardized outputs. 0.007 (0.003)\n",
    "#  gambar diatas menyimpulkan persebaran error dari masing2 contoh\n",
    "\n",
    "# dari plot tersebut menunjukkan bahwa ada sedikit perbedaan antara distribusi \n",
    "# skor error untuk unscale dan standarise input variable (percobaan 1 dan 3)\n",
    "# dan untuk percobaan nomor 2 menghasilkan performa yang lebih baik dan lebih ketat distribusinya skor error\n",
    "\n",
    "# ini semua menunjukan bahwa pentingnya dari data scalling method,\n"
   ]
  }
 ],
 "metadata": {
  "kernelspec": {
   "display_name": "Python 3",
   "language": "python",
   "name": "python3"
  },
  "language_info": {
   "codemirror_mode": {
    "name": "ipython",
    "version": 3
   },
   "file_extension": ".py",
   "mimetype": "text/x-python",
   "name": "python",
   "nbconvert_exporter": "python",
   "pygments_lexer": "ipython3",
   "version": "3.6.8"
  }
 },
 "nbformat": 4,
 "nbformat_minor": 2
}
