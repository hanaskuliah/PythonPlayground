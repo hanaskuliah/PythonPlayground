{
 "cells": [
  {
   "cell_type": "code",
   "execution_count": 1,
   "metadata": {},
   "outputs": [
    {
     "data": {
      "text/plain": [
       "'1.13.1'"
      ]
     },
     "execution_count": 1,
     "metadata": {},
     "output_type": "execute_result"
    }
   ],
   "source": [
    "import tensorflow as tf\n",
    "tf.__version__"
   ]
  },
  {
   "cell_type": "code",
   "execution_count": 2,
   "metadata": {},
   "outputs": [],
   "source": [
    "sess=tf.InteractiveSession()\n",
    "x=tf.constant([[2,5,3,-5],\n",
    "              [0,3,-2,5],\n",
    "              [4,3,5,3],\n",
    "              [6,1,4,0]])\n",
    "y=tf.constant([[4,-7,4,-3,4],\n",
    "              [6,4,-7,4,7],\n",
    "              [2,3,2,1,4],\n",
    "              [1,5,5,5,2]])\n",
    "floatx=tf.constant([[2.,5.,3.,-5.],\n",
    "              [0.,3.,-2.,5.],\n",
    "              [4.,3.,5.,3.],\n",
    "              [6.,1.,4.,0.]])"
   ]
  },
  {
   "cell_type": "code",
   "execution_count": 5,
   "metadata": {},
   "outputs": [
    {
     "data": {
      "text/plain": [
       "array([[ 2,  0,  4,  6],\n",
       "       [ 5,  3,  3,  1],\n",
       "       [ 3, -2,  5,  4],\n",
       "       [-5,  5,  3,  0]])"
      ]
     },
     "execution_count": 5,
     "metadata": {},
     "output_type": "execute_result"
    }
   ],
   "source": [
    "# sudah jelas untuk transpose\n",
    "tf.transpose(x).eval()"
   ]
  },
  {
   "cell_type": "code",
   "execution_count": 8,
   "metadata": {},
   "outputs": [
    {
     "data": {
      "text/plain": [
       "array([[ 39, -10, -46,  -8,  45],\n",
       "       [ 19,  31,   0,  35,  23],\n",
       "       [ 47,  14,  20,  20,  63],\n",
       "       [ 38, -26,  25, -10,  47]])"
      ]
     },
     "execution_count": 8,
     "metadata": {},
     "output_type": "execute_result"
    }
   ],
   "source": [
    "# inget perkalian matrik bisa dilakukan jika kolom dan baris sama 4x(4--> 4)x5\n",
    "tf.matmul(x,y).eval()"
   ]
  },
  {
   "cell_type": "code",
   "execution_count": 9,
   "metadata": {},
   "outputs": [
    {
     "data": {
      "text/plain": [
       "817.9997"
      ]
     },
     "execution_count": 9,
     "metadata": {},
     "output_type": "execute_result"
    }
   ],
   "source": [
    "# matrik determinan, coba diingat ingat dulu, yang penghitungannya silang antara baris dan kolom\n",
    "# http://belajar-online007.blogspot.com/2016/07/fungsi-determinan-matriks-dan-sifat.html\n",
    "tf.matrix_determinant(floatx).eval()"
   ]
  },
  {
   "cell_type": "code",
   "execution_count": 13,
   "metadata": {},
   "outputs": [
    {
     "data": {
      "text/plain": [
       "array([[-0.00855745,  0.10513447, -0.18948655,  0.29584354],\n",
       "       [ 0.12958434,  0.12224938,  0.01222495, -0.05134475],\n",
       "       [-0.01955992, -0.18826404,  0.2811736 , -0.1809291 ],\n",
       "       [-0.08557458,  0.05134474,  0.10513448, -0.0415648 ]],\n",
       "      dtype=float32)"
      ]
     },
     "execution_count": 13,
     "metadata": {},
     "output_type": "execute_result"
    }
   ],
   "source": [
    "# matriks invers, ngitungnya pake determinan\n",
    "# https://aimprof08.wordpress.com/2012/09/26/invers-matriks/\n",
    "tf.matrix_inverse(floatx).eval()"
   ]
  },
  {
   "cell_type": "code",
   "execution_count": 19,
   "metadata": {},
   "outputs": [
    {
     "data": {
      "text/plain": [
       "array([[ 0.202934  ],\n",
       "       [ 0.21271393],\n",
       "       [-0.10757945],\n",
       "       [ 0.02933985]], dtype=float32)"
      ]
     },
     "execution_count": 19,
     "metadata": {},
     "output_type": "execute_result"
    }
   ],
   "source": [
    "tf.matrix_solve(floatx,[[1],[1],[1],[1]]).eval()"
   ]
  },
  {
   "cell_type": "code",
   "execution_count": 16,
   "metadata": {},
   "outputs": [
    {
     "name": "stdout",
     "output_type": "stream",
     "text": [
      "Help on function matrix_solve in module tensorflow.python.ops.gen_linalg_ops:\n",
      "\n",
      "matrix_solve(matrix, rhs, adjoint=False, name=None)\n",
      "    Solves systems of linear equations.\n",
      "    \n",
      "    `Matrix` is a tensor of shape `[..., M, M]` whose inner-most 2 dimensions\n",
      "    form square matrices. `Rhs` is a tensor of shape `[..., M, K]`. The `output` is\n",
      "    a tensor shape `[..., M, K]`.  If `adjoint` is `False` then each output matrix\n",
      "    satisfies `matrix[..., :, :] * output[..., :, :] = rhs[..., :, :]`.\n",
      "    If `adjoint` is `True` then each output matrix satisfies\n",
      "    `adjoint(matrix[..., :, :]) * output[..., :, :] = rhs[..., :, :]`.\n",
      "    \n",
      "    Args:\n",
      "      matrix: A `Tensor`. Must be one of the following types: `float64`, `float32`, `complex64`, `complex128`.\n",
      "        Shape is `[..., M, M]`.\n",
      "      rhs: A `Tensor`. Must have the same type as `matrix`.\n",
      "        Shape is `[..., M, K]`.\n",
      "      adjoint: An optional `bool`. Defaults to `False`.\n",
      "        Boolean indicating whether to solve with `matrix` or its (block-wise)\n",
      "        adjoint.\n",
      "      name: A name for the operation (optional).\n",
      "    \n",
      "    Returns:\n",
      "      A `Tensor`. Has the same type as `matrix`.\n",
      "\n"
     ]
    }
   ],
   "source": [
    "help(tf.matrix_solve)"
   ]
  },
  {
   "cell_type": "code",
   "execution_count": 20,
   "metadata": {},
   "outputs": [],
   "source": [
    "# sekarang kita masuk dalam reduksi matriks\n",
    "x=tf.constant([[1,2,3],\n",
    "              [3,2,1],\n",
    "              [-1,-2,-3]])\n",
    "boolean_tensor=tf.constant([[True,False,True],\n",
    "                           [False,False,True],\n",
    "                           [True,False,False]])\n"
   ]
  },
  {
   "cell_type": "code",
   "execution_count": 23,
   "metadata": {},
   "outputs": [
    {
     "data": {
      "text/plain": [
       "array([ 6,  6, -6])"
      ]
     },
     "execution_count": 23,
     "metadata": {},
     "output_type": "execute_result"
    }
   ],
   "source": [
    "# per baris matriks dikalikan\n",
    "tf.reduce_prod(x,reduction_indices=1).eval()"
   ]
  },
  {
   "cell_type": "code",
   "execution_count": 24,
   "metadata": {},
   "outputs": [
    {
     "data": {
      "text/plain": [
       "array([ 1,  1, -3])"
      ]
     },
     "execution_count": 24,
     "metadata": {},
     "output_type": "execute_result"
    }
   ],
   "source": [
    "# cari nilai terkecil di setiap baris\n",
    "tf.reduce_min(x,reduction_indices=1).eval()"
   ]
  },
  {
   "cell_type": "code",
   "execution_count": 25,
   "metadata": {},
   "outputs": [
    {
     "data": {
      "text/plain": [
       "array([ 3,  3, -1])"
      ]
     },
     "execution_count": 25,
     "metadata": {},
     "output_type": "execute_result"
    }
   ],
   "source": [
    "# cari nilai paling besar tiap baris\n",
    "tf.reduce_max(x,reduction_indices=1).eval()"
   ]
  },
  {
   "cell_type": "code",
   "execution_count": 26,
   "metadata": {},
   "outputs": [
    {
     "data": {
      "text/plain": [
       "array([ 2,  2, -2])"
      ]
     },
     "execution_count": 26,
     "metadata": {},
     "output_type": "execute_result"
    }
   ],
   "source": [
    "#cari nilai rata-rata tiap baris\n",
    "tf.reduce_mean(x,reduction_indices=1).eval()"
   ]
  },
  {
   "cell_type": "code",
   "execution_count": 36,
   "metadata": {},
   "outputs": [
    {
     "data": {
      "text/plain": [
       "array([False, False, False])"
      ]
     },
     "execution_count": 36,
     "metadata": {},
     "output_type": "execute_result"
    }
   ],
   "source": [
    "# help(tf.reduce_all)\n",
    "tf.reduce_all(boolean_tensor,reduction_indices=1).eval()"
   ]
  },
  {
   "cell_type": "code",
   "execution_count": 37,
   "metadata": {},
   "outputs": [
    {
     "data": {
      "text/plain": [
       "array([ True,  True,  True])"
      ]
     },
     "execution_count": 37,
     "metadata": {},
     "output_type": "execute_result"
    }
   ],
   "source": [
    "tf.reduce_any(boolean_tensor,reduction_indices=1).eval()"
   ]
  },
  {
   "cell_type": "code",
   "execution_count": 40,
   "metadata": {},
   "outputs": [],
   "source": [
    "# sekarang kita masuk ke segmentasi\n",
    "seg_ids=tf.constant([0,1,1,2,2])\n",
    "tens1=tf.constant([[2,3,3,-5],\n",
    "                  [0,3,-2,5],\n",
    "                  [4,3,5,3],\n",
    "                  [6,1,4,0],\n",
    "                  [6,1,4,0]])\n",
    "# segmen adalah indeksnya, \n"
   ]
  },
  {
   "cell_type": "code",
   "execution_count": 41,
   "metadata": {},
   "outputs": [
    {
     "data": {
      "text/plain": [
       "array([[ 2,  3,  3, -5],\n",
       "       [ 4,  6,  3,  8],\n",
       "       [12,  2,  8,  0]])"
      ]
     },
     "execution_count": 41,
     "metadata": {},
     "output_type": "execute_result"
    }
   ],
   "source": [
    "# ini untuk menjumlahkan bagi baris yang segmennya sama\n",
    "tf.segment_sum(tens1,seg_ids).eval()"
   ]
  },
  {
   "cell_type": "code",
   "execution_count": 42,
   "metadata": {},
   "outputs": [
    {
     "data": {
      "text/plain": [
       "array([[  2,   3,   3,  -5],\n",
       "       [  0,   9, -10,  15],\n",
       "       [ 36,   1,  16,   0]])"
      ]
     },
     "execution_count": 42,
     "metadata": {},
     "output_type": "execute_result"
    }
   ],
   "source": [
    "# kalau ini untuk mengalikan jumlah baris yang mempunyai segmen yang sama\n",
    "tf.segment_prod(tens1,seg_ids).eval()"
   ]
  },
  {
   "cell_type": "code",
   "execution_count": 43,
   "metadata": {},
   "outputs": [
    {
     "data": {
      "text/plain": [
       "array([[ 2,  3,  3, -5],\n",
       "       [ 4,  3,  5,  5],\n",
       "       [ 6,  1,  4,  0]])"
      ]
     },
     "execution_count": 43,
     "metadata": {},
     "output_type": "execute_result"
    }
   ],
   "source": [
    "# mencari nilai maksimal setiap segmen\n",
    "tf.segment_max(tens1,seg_ids).eval()"
   ]
  },
  {
   "cell_type": "code",
   "execution_count": 44,
   "metadata": {},
   "outputs": [
    {
     "data": {
      "text/plain": [
       "array([[ 2,  3,  3, -5],\n",
       "       [ 0,  3, -2,  3],\n",
       "       [ 6,  1,  4,  0]])"
      ]
     },
     "execution_count": 44,
     "metadata": {},
     "output_type": "execute_result"
    }
   ],
   "source": [
    "# mencari nilai minimal tiap segmen\n",
    "tf.segment_min(tens1,seg_ids).eval()"
   ]
  },
  {
   "cell_type": "code",
   "execution_count": 45,
   "metadata": {},
   "outputs": [
    {
     "data": {
      "text/plain": [
       "array([[ 2,  3,  3, -5],\n",
       "       [ 2,  3,  1,  4],\n",
       "       [ 6,  1,  4,  0]])"
      ]
     },
     "execution_count": 45,
     "metadata": {},
     "output_type": "execute_result"
    }
   ],
   "source": [
    "tf.segment_mean(tens1,seg_ids).eval()"
   ]
  },
  {
   "cell_type": "code",
   "execution_count": 48,
   "metadata": {},
   "outputs": [],
   "source": [
    "# berpindah ke sequences\n",
    "x=tf.constant([[2,5,3,-5],\n",
    "              [0,3,-2,5],\n",
    "              [4,3,5,3],\n",
    "              [6,1,4,0]])\n",
    "listx=tf.constant([1,2,3,4,5,6,7,8])\n",
    "listy=tf.constant([4,5,8,9])\n",
    "boolx=tf.constant([[True,False],[False,True]])\n"
   ]
  },
  {
   "cell_type": "code",
   "execution_count": 49,
   "metadata": {},
   "outputs": [
    {
     "data": {
      "text/plain": [
       "array([3, 2, 1, 3], dtype=int64)"
      ]
     },
     "execution_count": 49,
     "metadata": {},
     "output_type": "execute_result"
    }
   ],
   "source": [
    "# menemukan index/posisi nilai terkecil dari setiap baris di array x\n",
    "tf.argmin(x,1).eval()"
   ]
  },
  {
   "cell_type": "code",
   "execution_count": 50,
   "metadata": {},
   "outputs": [
    {
     "data": {
      "text/plain": [
       "array([1, 3, 2, 0], dtype=int64)"
      ]
     },
     "execution_count": 50,
     "metadata": {},
     "output_type": "execute_result"
    }
   ],
   "source": [
    "# menemukan index/posisi nilai terbesar dari setiap baris di array x\n",
    "tf.argmax(x,1).eval()"
   ]
  },
  {
   "cell_type": "code",
   "execution_count": 53,
   "metadata": {},
   "outputs": [
    {
     "name": "stdout",
     "output_type": "stream",
     "text": [
      "WARNING:tensorflow:From <ipython-input-53-5ceb3fe53264>:2: setdiff1d (from tensorflow.python.ops.array_ops) is deprecated and will be removed after 2018-11-30.\n",
      "Instructions for updating:\n",
      "This op will be removed after the deprecation date. Please switch to tf.sets.difference().\n"
     ]
    },
    {
     "data": {
      "text/plain": [
       "array([1, 2, 3, 6, 7])"
      ]
     },
     "execution_count": 53,
     "metadata": {},
     "output_type": "execute_result"
    }
   ],
   "source": [
    "# menemukan nilai dari array yang berbeda dari 2 array\n",
    "tf.setdiff1d(listx,listy)[0].eval()"
   ]
  },
  {
   "cell_type": "code",
   "execution_count": 54,
   "metadata": {},
   "outputs": [
    {
     "data": {
      "text/plain": [
       "array([[0, 0],\n",
       "       [1, 1]], dtype=int64)"
      ]
     },
     "execution_count": 54,
     "metadata": {},
     "output_type": "execute_result"
    }
   ],
   "source": [
    "tf.where(boolx).eval()"
   ]
  },
  {
   "cell_type": "code",
   "execution_count": 55,
   "metadata": {},
   "outputs": [
    {
     "data": {
      "text/plain": [
       "array([1, 2, 3, 4, 5, 6, 7, 8])"
      ]
     },
     "execution_count": 55,
     "metadata": {},
     "output_type": "execute_result"
    }
   ],
   "source": [
    "tf.unique(listx)[0].eval()"
   ]
  },
  {
   "cell_type": "code",
   "execution_count": 56,
   "metadata": {},
   "outputs": [],
   "source": [
    "# sekarang berpindah ke tensorshaping\n",
    "x=tf.constant([[2,5,3,-5],\n",
    "              [0,3,-2,5],\n",
    "              [4,3,5,3],\n",
    "              [6,1,4,0]])\n"
   ]
  },
  {
   "cell_type": "code",
   "execution_count": 57,
   "metadata": {},
   "outputs": [
    {
     "data": {
      "text/plain": [
       "array([4, 4])"
      ]
     },
     "execution_count": 57,
     "metadata": {},
     "output_type": "execute_result"
    }
   ],
   "source": [
    "tf.shape(x).eval()"
   ]
  },
  {
   "cell_type": "code",
   "execution_count": 58,
   "metadata": {},
   "outputs": [
    {
     "data": {
      "text/plain": [
       "16"
      ]
     },
     "execution_count": 58,
     "metadata": {},
     "output_type": "execute_result"
    }
   ],
   "source": [
    "tf.size(x).eval()"
   ]
  },
  {
   "cell_type": "code",
   "execution_count": 60,
   "metadata": {},
   "outputs": [
    {
     "name": "stdout",
     "output_type": "stream",
     "text": [
      "Help on function rank in module tensorflow.python.ops.array_ops:\n",
      "\n",
      "rank(input, name=None)\n",
      "    Returns the rank of a tensor.\n",
      "    \n",
      "    Returns a 0-D `int32` `Tensor` representing the rank of `input`.\n",
      "    \n",
      "    For example:\n",
      "    \n",
      "    ```python\n",
      "    # shape of tensor 't' is [2, 2, 3]\n",
      "    t = tf.constant([[[1, 1, 1], [2, 2, 2]], [[3, 3, 3], [4, 4, 4]]])\n",
      "    tf.rank(t)  # 3\n",
      "    ```\n",
      "    \n",
      "    **Note**: The rank of a tensor is not the same as the rank of a matrix. The\n",
      "    rank of a tensor is the number of indices required to uniquely select each\n",
      "    element of the tensor. Rank is also known as \"order\", \"degree\", or \"ndims.\"\n",
      "    \n",
      "    Args:\n",
      "      input: A `Tensor` or `SparseTensor`.\n",
      "      name: A name for the operation (optional).\n",
      "    \n",
      "    Returns:\n",
      "      A `Tensor` of type `int32`.\n",
      "    \n",
      "    @compatibility(numpy)\n",
      "    Equivalent to np.ndim\n",
      "    @end_compatibility\n",
      "\n"
     ]
    }
   ],
   "source": [
    "tf.rank(x).eval()\n",
    "help(tf.rank)"
   ]
  },
  {
   "cell_type": "code",
   "execution_count": 61,
   "metadata": {},
   "outputs": [
    {
     "data": {
      "text/plain": [
       "array([[ 2],\n",
       "       [ 5],\n",
       "       [ 3],\n",
       "       [-5],\n",
       "       [ 0],\n",
       "       [ 3],\n",
       "       [-2],\n",
       "       [ 5],\n",
       "       [ 4],\n",
       "       [ 3],\n",
       "       [ 5],\n",
       "       [ 3],\n",
       "       [ 6],\n",
       "       [ 1],\n",
       "       [ 4],\n",
       "       [ 0]])"
      ]
     },
     "execution_count": 61,
     "metadata": {},
     "output_type": "execute_result"
    }
   ],
   "source": [
    "tf.reshape(x,[16,1]).eval()"
   ]
  },
  {
   "cell_type": "code",
   "execution_count": 64,
   "metadata": {},
   "outputs": [
    {
     "name": "stdout",
     "output_type": "stream",
     "text": [
      "Help on function squeeze in module tensorflow.python.ops.array_ops:\n",
      "\n",
      "squeeze(input, axis=None, name=None, squeeze_dims=None)\n",
      "    Removes dimensions of size 1 from the shape of a tensor. (deprecated arguments)\n",
      "    \n",
      "    Warning: SOME ARGUMENTS ARE DEPRECATED: `(squeeze_dims)`. They will be removed in a future version.\n",
      "    Instructions for updating:\n",
      "    Use the `axis` argument instead\n",
      "    \n",
      "    Given a tensor `input`, this operation returns a tensor of the same type with\n",
      "    all dimensions of size 1 removed. If you don't want to remove all size 1\n",
      "    dimensions, you can remove specific size 1 dimensions by specifying\n",
      "    `axis`.\n",
      "    \n",
      "    For example:\n",
      "    \n",
      "    ```python\n",
      "    # 't' is a tensor of shape [1, 2, 1, 3, 1, 1]\n",
      "    tf.shape(tf.squeeze(t))  # [2, 3]\n",
      "    ```\n",
      "    \n",
      "    Or, to remove specific size 1 dimensions:\n",
      "    \n",
      "    ```python\n",
      "    # 't' is a tensor of shape [1, 2, 1, 3, 1, 1]\n",
      "    tf.shape(tf.squeeze(t, [2, 4]))  # [1, 2, 3, 1]\n",
      "    ```\n",
      "    \n",
      "    Args:\n",
      "      input: A `Tensor`. The `input` to squeeze.\n",
      "      axis: An optional list of `ints`. Defaults to `[]`.\n",
      "        If specified, only squeezes the dimensions listed. The dimension\n",
      "        index starts at 0. It is an error to squeeze a dimension that is not 1.\n",
      "        Must be in the range `[-rank(input), rank(input))`.\n",
      "      name: A name for the operation (optional).\n",
      "      squeeze_dims: Deprecated keyword argument that is now axis.\n",
      "    \n",
      "    Returns:\n",
      "      A `Tensor`. Has the same type as `input`.\n",
      "      Contains the same data as `input`, but has one or more dimensions of\n",
      "      size 1 removed.\n",
      "    \n",
      "    Raises:\n",
      "      ValueError: When both `squeeze_dims` and `axis` are specified.\n",
      "\n"
     ]
    },
    {
     "data": {
      "text/plain": [
       "array([[ 2,  5,  3, -5],\n",
       "       [ 0,  3, -2,  5],\n",
       "       [ 4,  3,  5,  3],\n",
       "       [ 6,  1,  4,  0]])"
      ]
     },
     "execution_count": 64,
     "metadata": {},
     "output_type": "execute_result"
    }
   ],
   "source": [
    "help(tf.squeeze)\n",
    "tf.squeeze(x).eval()"
   ]
  },
  {
   "cell_type": "code",
   "execution_count": 67,
   "metadata": {},
   "outputs": [
    {
     "data": {
      "text/plain": [
       "array([[[ 2,  5,  3, -5]],\n",
       "\n",
       "       [[ 0,  3, -2,  5]],\n",
       "\n",
       "       [[ 4,  3,  5,  3]],\n",
       "\n",
       "       [[ 6,  1,  4,  0]]])"
      ]
     },
     "execution_count": 67,
     "metadata": {},
     "output_type": "execute_result"
    }
   ],
   "source": [
    "tf.expand_dims(x,1).eval()"
   ]
  },
  {
   "cell_type": "code",
   "execution_count": 69,
   "metadata": {},
   "outputs": [],
   "source": [
    "# sekarang berpindah ke tensor slicing and joining\n",
    "t_matrix=tf.constant([[1,2,3],\n",
    "                     [4,5,6],\n",
    "                     [7,8,9]])\n",
    "t_array=tf.constant([1,2,3,4,9,8,6,5])\n",
    "t_array2=tf.constant([2,3,4,5,6,7,8,9])\n"
   ]
  },
  {
   "cell_type": "code",
   "execution_count": 79,
   "metadata": {},
   "outputs": [
    {
     "data": {
      "text/plain": [
       "array([[2, 3],\n",
       "       [5, 6]])"
      ]
     },
     "execution_count": 79,
     "metadata": {},
     "output_type": "execute_result"
    }
   ],
   "source": [
    "# parameternya adalah 2 diawal itu titik mulainya, dan 2,2 akhir itu adalah ukurannya\n",
    "tf.slice(t_matrix,[0,1],[2,2]).eval()"
   ]
  },
  {
   "cell_type": "code",
   "execution_count": 88,
   "metadata": {},
   "outputs": [
    {
     "name": "stdout",
     "output_type": "stream",
     "text": [
      "Help on function split in module tensorflow.python.ops.array_ops:\n",
      "\n",
      "split(value, num_or_size_splits, axis=0, num=None, name='split')\n",
      "    Splits a tensor into sub tensors.\n",
      "    \n",
      "    If `num_or_size_splits` is an integer type, then `value` is split\n",
      "    along dimension `axis` into `num_split` smaller tensors.\n",
      "    Requires that `num_split` evenly divides `value.shape[axis]`.\n",
      "    \n",
      "    If `num_or_size_splits` is not an integer type, it is presumed to be a Tensor\n",
      "    `size_splits`, then splits `value` into `len(size_splits)` pieces. The shape\n",
      "    of the `i`-th piece has the same size as the `value` except along dimension\n",
      "    `axis` where the size is `size_splits[i]`.\n",
      "    \n",
      "    For example:\n",
      "    \n",
      "    ```python\n",
      "    # 'value' is a tensor with shape [5, 30]\n",
      "    # Split 'value' into 3 tensors with sizes [4, 15, 11] along dimension 1\n",
      "    split0, split1, split2 = tf.split(value, [4, 15, 11], 1)\n",
      "    tf.shape(split0)  # [5, 4]\n",
      "    tf.shape(split1)  # [5, 15]\n",
      "    tf.shape(split2)  # [5, 11]\n",
      "    # Split 'value' into 3 tensors along dimension 1\n",
      "    split0, split1, split2 = tf.split(value, num_or_size_splits=3, axis=1)\n",
      "    tf.shape(split0)  # [5, 10]\n",
      "    ```\n",
      "    \n",
      "    Args:\n",
      "      value: The `Tensor` to split.\n",
      "      num_or_size_splits: Either a 0-D integer `Tensor` indicating the number of\n",
      "        splits along split_dim or a 1-D integer `Tensor` containing\n",
      "        the sizes of each output tensor along split_dim. If a scalar then it must\n",
      "        evenly divide `value.shape[axis]`; otherwise the sum of sizes along the\n",
      "        split dimension must match that of the `value`.\n",
      "      axis: A 0-D `int32` `Tensor`. The dimension along which to split.\n",
      "        Must be in the range `[-rank(value), rank(value))`. Defaults to 0.\n",
      "      num: Optional, used to specify the number of outputs when it cannot be\n",
      "        inferred from the shape of `size_splits`.\n",
      "      name: A name for the operation (optional).\n",
      "    \n",
      "    Returns:\n",
      "      if `num_or_size_splits` is a scalar returns `num_or_size_splits` `Tensor`\n",
      "      objects; if `num_or_size_splits` is a 1-D Tensor returns\n",
      "      `num_or_size_splits.get_shape[0]` `Tensor` objects resulting from splitting\n",
      "      `value`.\n",
      "    \n",
      "    Raises:\n",
      "      ValueError: If `num` is unspecified and cannot be inferred.\n",
      "\n"
     ]
    },
    {
     "data": {
      "text/plain": [
       "[<tf.Tensor 'split_8:0' shape=(4,) dtype=int32>,\n",
       " <tf.Tensor 'split_8:1' shape=(4,) dtype=int32>]"
      ]
     },
     "execution_count": 88,
     "metadata": {},
     "output_type": "execute_result"
    }
   ],
   "source": [
    "# split atau pemisahan array\n",
    "help(tf.split)\n",
    "tf.split(t_array,2,0)"
   ]
  },
  {
   "cell_type": "code",
   "execution_count": 89,
   "metadata": {},
   "outputs": [
    {
     "data": {
      "text/plain": [
       "array([1, 2, 1, 2, 1, 2])"
      ]
     },
     "execution_count": 89,
     "metadata": {},
     "output_type": "execute_result"
    }
   ],
   "source": [
    "# tiling alias memperbanyak\n",
    "tf.tile([1,2],[3]).eval()"
   ]
  },
  {
   "cell_type": "code",
   "execution_count": 90,
   "metadata": {},
   "outputs": [
    {
     "data": {
      "text/plain": [
       "array([[0, 0, 1, 2, 3, 0],\n",
       "       [0, 0, 4, 5, 6, 0],\n",
       "       [0, 0, 7, 8, 9, 0],\n",
       "       [0, 0, 0, 0, 0, 0]])"
      ]
     },
     "execution_count": 90,
     "metadata": {},
     "output_type": "execute_result"
    }
   ],
   "source": [
    "# padding, diberi jarak 0\n",
    "tf.pad(t_matrix,[[0,1],[2,1]]).eval()"
   ]
  },
  {
   "cell_type": "code",
   "execution_count": 98,
   "metadata": {},
   "outputs": [
    {
     "data": {
      "text/plain": [
       "array([1, 2, 3, 4, 9, 8, 6, 5, 2, 3, 4, 5, 6, 7, 8, 9])"
      ]
     },
     "execution_count": 98,
     "metadata": {},
     "output_type": "execute_result"
    }
   ],
   "source": [
    "# sudah jelas untuk penggabungan\n",
    "tf.concat([t_array,t_array2],0).eval()"
   ]
  },
  {
   "cell_type": "code",
   "execution_count": 101,
   "metadata": {},
   "outputs": [
    {
     "data": {
      "text/plain": [
       "array([[1, 2, 3, 4, 9, 8, 6, 5],\n",
       "       [2, 3, 4, 5, 6, 7, 8, 9]])"
      ]
     },
     "execution_count": 101,
     "metadata": {},
     "output_type": "execute_result"
    }
   ],
   "source": [
    "# ini untuk menumpuk\n",
    "tf.stack([t_array,t_array2]).eval()"
   ]
  },
  {
   "cell_type": "code",
   "execution_count": 102,
   "metadata": {},
   "outputs": [
    {
     "data": {
      "text/plain": [
       "[<tf.Tensor 'unstack:0' shape=(3, 3) dtype=int32>]"
      ]
     },
     "execution_count": 102,
     "metadata": {},
     "output_type": "execute_result"
    }
   ],
   "source": [
    "# untuk mengembalikan per baris\n",
    "tf.unstack([t_matrix])"
   ]
  },
  {
   "cell_type": "code",
   "execution_count": 106,
   "metadata": {},
   "outputs": [
    {
     "data": {
      "text/plain": [
       "array([[9, 8, 7],\n",
       "       [6, 5, 4],\n",
       "       [3, 2, 1]])"
      ]
     },
     "execution_count": 106,
     "metadata": {},
     "output_type": "execute_result"
    }
   ],
   "source": [
    "# untuk reverse matrik, dengan argumen mau horizontal atau cuma vertikal atau keduanya\n",
    "tf.reverse(t_matrix,[True,False]).eval()"
   ]
  },
  {
   "cell_type": "code",
   "execution_count": null,
   "metadata": {},
   "outputs": [],
   "source": []
  }
 ],
 "metadata": {
  "kernelspec": {
   "display_name": "Python 3",
   "language": "python",
   "name": "python3"
  },
  "language_info": {
   "codemirror_mode": {
    "name": "ipython",
    "version": 3
   },
   "file_extension": ".py",
   "mimetype": "text/x-python",
   "name": "python",
   "nbconvert_exporter": "python",
   "pygments_lexer": "ipython3",
   "version": "3.6.8"
  }
 },
 "nbformat": 4,
 "nbformat_minor": 2
}
